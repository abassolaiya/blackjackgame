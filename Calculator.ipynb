{
 "cells": [
  {
   "cell_type": "code",
   "execution_count": 1,
   "id": "87e84b37",
   "metadata": {},
   "outputs": [],
   "source": [
    "import tkinter as tk"
   ]
  },
  {
   "cell_type": "code",
   "execution_count": null,
   "id": "03841f8f",
   "metadata": {},
   "outputs": [],
   "source": [
    "keys = [[('C ', 1), ('CE', 1), ('%', 1), ('^.5', 1)],\n",
    "       [('7', 1), ('8', 1), (' 9 ', 1), (' + ', 1)],\n",
    "        [('4', 1), ('5', 1), ('6', 1), ('-', 1)],\n",
    "        [('1', 1), ('2', 1), ('3', 1), ('*', 1)],\n",
    "        [('0', 1), ('=', 1), ('/', 1)],\n",
    "       ]\n",
    "\n",
    "\n",
    "mainWindow = tk.Tk()\n",
    "mainWindow.title('Calculator')\n",
    "mainWindow.geometry('640x480-8-200')\n",
    "mainWindow['padx']= 8\n",
    "\n",
    "result = tk.Entry(mainWindow)\n",
    "result.grid(row=0, column=0, sticky='nsew')\n",
    "\n",
    "keyPad = tk.Frame(mainWindow)\n",
    "keyPad.grid(row=1, column=0, sticky='nsew')\n",
    "\n",
    "row = 0\n",
    "for krow in keys:\n",
    "    col=0\n",
    "    for key in krow:\n",
    "        tk.Button(keyPad, text=key[0]).grid(row=row, column=col, columnspan=key[1], sticky=tk.E + tk.W)\n",
    "        col += key[1]\n",
    "    row += 1\n",
    "mainWindow.update()\n",
    "mainWindow.minsize(keyPad.winfo_width() + 8, result.winfo_height() + keyPad.winfo_height())\n",
    "mainWindow.maxsize(keyPad.winfo_width() + 50, result.winfo_height() + 50 + keyPad.winfo_height())\n",
    "mainWindow.mainloop()"
   ]
  },
  {
   "cell_type": "code",
   "execution_count": null,
   "id": "21c1d66c",
   "metadata": {},
   "outputs": [],
   "source": [
    "#Add the functions that allows it to calculate"
   ]
  }
 ],
 "metadata": {
  "kernelspec": {
   "display_name": "Python 3",
   "language": "python",
   "name": "python3"
  },
  "language_info": {
   "codemirror_mode": {
    "name": "ipython",
    "version": 3
   },
   "file_extension": ".py",
   "mimetype": "text/x-python",
   "name": "python",
   "nbconvert_exporter": "python",
   "pygments_lexer": "ipython3",
   "version": "3.8.8"
  }
 },
 "nbformat": 4,
 "nbformat_minor": 5
}
